{
 "cells": [
  {
   "cell_type": "markdown",
   "metadata": {},
   "source": [
    "## Global Stats"
   ]
  },
  {
   "cell_type": "code",
   "execution_count": 2,
   "metadata": {},
   "outputs": [],
   "source": [
    "import requests\n",
    "import pandas as pd\n",
    "pd.set_option(\"display.max_rows\", 500)"
   ]
  },
  {
   "cell_type": "code",
   "execution_count": 3,
   "metadata": {},
   "outputs": [],
   "source": [
    "r = requests.get('https://api.thevirustracker.com/free-api?global=stats').json()"
   ]
  },
  {
   "cell_type": "code",
   "execution_count": 4,
   "metadata": {},
   "outputs": [
    {
     "data": {
      "text/plain": [
       "{'results': [{'total_cases': 3808488,\n",
       "   'total_recovered': 1287600,\n",
       "   'total_unresolved': 2039891,\n",
       "   'total_deaths': 263877,\n",
       "   'total_new_cases_today': 83970,\n",
       "   'total_new_deaths_today': 5851,\n",
       "   'total_active_cases': 2257011,\n",
       "   'total_serious_cases': 48242,\n",
       "   'total_affected_countries': 212,\n",
       "   'source': {'url': 'https://thevirustracker.com/'}}],\n",
       " 'stat': 'ok'}"
      ]
     },
     "execution_count": 4,
     "metadata": {},
     "output_type": "execute_result"
    }
   ],
   "source": [
    "r"
   ]
  },
  {
   "cell_type": "code",
   "execution_count": 8,
   "metadata": {},
   "outputs": [
    {
     "data": {
      "text/plain": [
       "{'total_cases': 3808488,\n",
       " 'total_recovered': 1287600,\n",
       " 'total_unresolved': 2039891,\n",
       " 'total_deaths': 263877,\n",
       " 'total_new_cases_today': 83970,\n",
       " 'total_new_deaths_today': 5851,\n",
       " 'total_active_cases': 2257011,\n",
       " 'total_serious_cases': 48242,\n",
       " 'total_affected_countries': 212,\n",
       " 'source': {'url': 'https://thevirustracker.com/'}}"
      ]
     },
     "execution_count": 8,
     "metadata": {},
     "output_type": "execute_result"
    }
   ],
   "source": [
    "r['results'][0]"
   ]
  },
  {
   "cell_type": "markdown",
   "metadata": {},
   "source": [
    "## Country"
   ]
  },
  {
   "cell_type": "code",
   "execution_count": 9,
   "metadata": {},
   "outputs": [],
   "source": [
    "req = requests.get(\"https://api.thevirustracker.com/free-api?countryTotal=IN\").json()"
   ]
  },
  {
   "cell_type": "code",
   "execution_count": 14,
   "metadata": {},
   "outputs": [
    {
     "data": {
      "text/plain": [
       "{'info': {'ourid': 72,\n",
       "  'title': 'India',\n",
       "  'code': 'IN',\n",
       "  'source': 'https://thevirustracker.com/india-coronavirus-information-in'},\n",
       " 'total_cases': 52987,\n",
       " 'total_recovered': 15331,\n",
       " 'total_unresolved': 0,\n",
       " 'total_deaths': 1785,\n",
       " 'total_new_cases_today': 3587,\n",
       " 'total_new_deaths_today': 92,\n",
       " 'total_active_cases': 35871,\n",
       " 'total_serious_cases': 0,\n",
       " 'total_danger_rank': 14}"
      ]
     },
     "execution_count": 14,
     "metadata": {},
     "output_type": "execute_result"
    }
   ],
   "source": [
    "req['countrydata'][0]"
   ]
  },
  {
   "cell_type": "code",
   "execution_count": null,
   "metadata": {},
   "outputs": [],
   "source": []
  }
 ],
 "metadata": {
  "kernelspec": {
   "display_name": "Python 3",
   "language": "python",
   "name": "python3"
  },
  "language_info": {
   "codemirror_mode": {
    "name": "ipython",
    "version": 3
   },
   "file_extension": ".py",
   "mimetype": "text/x-python",
   "name": "python",
   "nbconvert_exporter": "python",
   "pygments_lexer": "ipython3",
   "version": "3.8.2"
  }
 },
 "nbformat": 4,
 "nbformat_minor": 4
}
